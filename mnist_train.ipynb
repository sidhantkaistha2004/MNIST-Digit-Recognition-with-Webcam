{
 "cells": [
  {
   "cell_type": "code",
   "execution_count": 11,
   "metadata": {},
   "outputs": [],
   "source": [
    "import os\n",
    "import cv2\n",
    "import numpy as np\n",
    "import tensorflow as tf\n",
    "from tensorflow.keras import layers, models\n",
    "import matplotlib.pyplot as plt"
   ]
  },
  {
   "cell_type": "code",
   "execution_count": null,
   "metadata": {},
   "outputs": [],
   "source": [
    "MODEL_PATH = 'model.h5'\n",
    "if os.path.exists(MODEL_PATH):\n",
    "    print(f\"Model already exists at {MODEL_PATH}. Skipping training.\")\n",
    "    exit(0)\n"
   ]
  },
  {
   "cell_type": "code",
   "execution_count": 3,
   "metadata": {},
   "outputs": [],
   "source": [
    "# Load MNIST dataset\n",
    "data = tf.keras.datasets.mnist\n",
    "(x_train, y_train), (x_test, y_test) = data.load_data()"
   ]
  },
  {
   "cell_type": "code",
   "execution_count": 4,
   "metadata": {},
   "outputs": [],
   "source": [
    "# Normalize and reshape\n",
    "def preprocess(x):\n",
    "    x = x.astype('float32') / 255.0\n",
    "    return np.expand_dims(x, -1)\n"
   ]
  },
  {
   "cell_type": "code",
   "execution_count": 5,
   "metadata": {},
   "outputs": [],
   "source": [
    "x_train = preprocess(x_train)\n",
    "x_test = preprocess(x_test)\n",
    "\n",
    "# Build model\n",
    "model = models.Sequential([\n",
    "    layers.Conv2D(32, (3, 3), activation='relu', input_shape=(28, 28, 1)),\n",
    "    layers.MaxPooling2D((2, 2)),\n",
    "    layers.Conv2D(64, (3, 3), activation='relu'),\n",
    "    layers.MaxPooling2D((2, 2)),\n",
    "    layers.Flatten(),\n",
    "    layers.Dense(64, activation='relu'),\n",
    "    layers.Dense(10, activation='softmax')\n",
    "])"
   ]
  },
  {
   "cell_type": "code",
   "execution_count": 6,
   "metadata": {},
   "outputs": [
    {
     "name": "stdout",
     "output_type": "stream",
     "text": [
      "Epoch 1/5\n",
      "1875/1875 [==============================] - 26s 8ms/step - loss: 0.1390 - accuracy: 0.9569 - val_loss: 0.0500 - val_accuracy: 0.9836\n",
      "Epoch 2/5\n",
      "1875/1875 [==============================] - 14s 8ms/step - loss: 0.0459 - accuracy: 0.9856 - val_loss: 0.0384 - val_accuracy: 0.9870\n",
      "Epoch 3/5\n",
      "1875/1875 [==============================] - 14s 8ms/step - loss: 0.0322 - accuracy: 0.9893 - val_loss: 0.0320 - val_accuracy: 0.9887\n",
      "Epoch 4/5\n",
      "1875/1875 [==============================] - 14s 8ms/step - loss: 0.0230 - accuracy: 0.9927 - val_loss: 0.0311 - val_accuracy: 0.9893\n",
      "Epoch 5/5\n",
      "1875/1875 [==============================] - 14s 8ms/step - loss: 0.0186 - accuracy: 0.9941 - val_loss: 0.0433 - val_accuracy: 0.9877\n"
     ]
    },
    {
     "data": {
      "text/plain": [
       "<keras.callbacks.History at 0x2430e877ca0>"
      ]
     },
     "execution_count": 6,
     "metadata": {},
     "output_type": "execute_result"
    }
   ],
   "source": [
    "model.compile(optimizer='adam',\n",
    "              loss='sparse_categorical_crossentropy',\n",
    "              metrics=['accuracy'])\n",
    "\n",
    "model.fit(x_train, y_train, epochs=5, validation_data=(x_test, y_test))"
   ]
  },
  {
   "cell_type": "code",
   "execution_count": 7,
   "metadata": {},
   "outputs": [
    {
     "name": "stdout",
     "output_type": "stream",
     "text": [
      "313/313 - 1s - loss: 0.0433 - accuracy: 0.9877 - 1s/epoch - 4ms/step\n",
      "Test accuracy: 0.9877\n",
      "313/313 [==============================] - 1s 3ms/step\n"
     ]
    }
   ],
   "source": [
    "# Evaluate\n",
    "loss, acc = model.evaluate(x_test, y_test, verbose=2)\n",
    "print(f\"Test accuracy: {acc:.4f}\")\n",
    "\n",
    "# Predict on test set\n",
    "y_pred_probs = model.predict(x_test)\n",
    "y_pred = np.argmax(y_pred_probs, axis=1)\n"
   ]
  },
  {
   "cell_type": "code",
   "execution_count": 8,
   "metadata": {},
   "outputs": [
    {
     "data": {
      "image/png": "[encoded data removed]",
      "text/plain": [
       "<Figure size 1200x400 with 10 Axes>"
      ]
     },
     "metadata": {},
     "output_type": "display_data"
    },
    {
     "name": "stdout",
     "output_type": "stream",
     "text": [
      "Model saved to model.h5\n"
     ]
    }
   ],
   "source": [
    "# Show some correct and incorrect predictions\n",
    "num_examples = 10\n",
    "correct = np.where(y_pred == y_test)[0]\n",
    "incorrect = np.where(y_pred != y_test)[0]\n",
    "\n",
    "plt.figure(figsize=(12, 4))\n",
    "for i, idx in enumerate(correct[:5]):\n",
    "    plt.subplot(2, 5, i+1)\n",
    "    plt.imshow(x_test[idx].squeeze(), cmap='gray')\n",
    "    plt.title(f\"True: {y_test[idx]}\\nPred: {y_pred[idx]}\")\n",
    "    plt.axis('off')\n",
    "for i, idx in enumerate(incorrect[:5]):\n",
    "    plt.subplot(2, 5, 6+i)\n",
    "    plt.imshow(x_test[idx].squeeze(), cmap='gray')\n",
    "    plt.title(f\"True: {y_test[idx]}\\nPred: {y_pred[idx]}\", color='red')\n",
    "    plt.axis('off')\n",
    "plt.suptitle('Top: Correct Predictions | Bottom: Incorrect Predictions')\n",
    "plt.tight_layout(rect=[0, 0, 1, 0.93])\n",
    "plt.show()\n",
    "\n",
    "# Save model\n",
    "model.save(MODEL_PATH)\n",
    "print(f\"Model saved to {MODEL_PATH}\") "
   ]
  },
  {
   "cell_type": "code",
   "execution_count": 9,
   "metadata": {},
   "outputs": [],
   "source": [
    "MODEL_PATH = 'model.h5'\n",
    "# Load the trained model\n",
    "model = tf.keras.models.load_model(MODEL_PATH)\n"
   ]
  },
  {
   "cell_type": "code",
   "execution_count": 13,
   "metadata": {},
   "outputs": [
    {
     "name": "stdout",
     "output_type": "stream",
     "text": [
      "Press SPACE to capture and predict a digit. Press ESC to exit.\n",
      "1/1 [==============================] - 0s 16ms/step\n",
      "1/1 [==============================] - 0s 18ms/step\n",
      "1/1 [==============================] - 0s 16ms/step\n",
      "Exiting...\n",
      "Camera released and windows closed.\n"
     ]
    }
   ],
   "source": [
    "# Start webcam\n",
    "cap = cv2.VideoCapture(0)\n",
    "pred_digit = None\n",
    "\n",
    "print(\"Press SPACE to capture and predict a digit. Press ESC to exit.\")\n",
    "\n",
    "while True:\n",
    "    ret, frame = cap.read()\n",
    "    if not ret:\n",
    "        print(\"Failed to grab frame\")\n",
    "        break\n",
    "\n",
    "    display_frame = frame.copy()\n",
    "    if pred_digit is not None:\n",
    "        cv2.putText(display_frame, f\"Predicted: {pred_digit}\", (10, 40), cv2.FONT_HERSHEY_SIMPLEX, 1.5, (0, 255, 0), 3)\n",
    "\n",
    "    cv2.imshow('Camera - SPACE: predict, ESC: exit', display_frame)\n",
    "    key = cv2.waitKey(1)\n",
    "\n",
    "    if key % 256 == 27:  # ESC pressed\n",
    "        print(\"Exiting...\")\n",
    "        break\n",
    "    elif key % 256 == 32:  # SPACE pressed\n",
    "        # Convert to grayscale\n",
    "        gray = cv2.cvtColor(frame, cv2.COLOR_BGR2GRAY)\n",
    "        h, w = gray.shape\n",
    "        min_dim = min(h, w)\n",
    "        start_x = w//2 - min_dim//2\n",
    "        start_y = h//2 - min_dim//2\n",
    "        gray = gray[start_y:start_y+min_dim, start_x:start_x+min_dim]\n",
    "        # Resize to 28x28\n",
    "        resized = cv2.resize(gray, (28, 28), interpolation=cv2.INTER_AREA)\n",
    "        # Adaptive thresholding for any background\n",
    "        thresh = cv2.adaptiveThreshold(resized, 255, cv2.ADAPTIVE_THRESH_GAUSSIAN_C, cv2.THRESH_BINARY, 11, 2)\n",
    "        # Check if digit is black or white (MNIST expects white digit)\n",
    "        if np.mean(thresh) > 127:\n",
    "            # Background is white, digit is black, so invert\n",
    "            thresh = 255 - thresh\n",
    "        # Normalize and reshape\n",
    "        input_img = thresh.astype('float32') / 255.0\n",
    "        input_img = np.expand_dims(input_img, axis=(0, -1))  # Shape: (1, 28, 28, 1)\n",
    "        # Predict\n",
    "        y_pred = model.predict(input_img)\n",
    "        pred_digit = int(np.argmax(y_pred))\n",
    "cap.release()\n",
    "cv2.destroyAllWindows()\n",
    "print(\"Camera released and windows closed.\") "
   ]
  }
 ],
 "metadata": {
  "kernelspec": {
   "display_name": "Python 3",
   "language": "python",
   "name": "python3"
  },
  "language_info": {
   "codemirror_mode": {
    "name": "ipython",
    "version": 3
   },
   "file_extension": ".py",
   "mimetype": "text/x-python",
   "name": "python",
   "nbconvert_exporter": "python",
   "pygments_lexer": "ipython3",
   "version": "3.8.10"
  }
 },
 "nbformat": 4,
 "nbformat_minor": 2
}
